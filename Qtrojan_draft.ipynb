{
  "nbformat": 4,
  "nbformat_minor": 0,
  "metadata": {
    "colab": {
      "provenance": []
    },
    "kernelspec": {
      "name": "python3",
      "display_name": "Python 3"
    },
    "language_info": {
      "name": "python"
    }
  },
  "cells": [
    {
      "cell_type": "markdown",
      "source": [
        "# Library"
      ],
      "metadata": {
        "id": "K5lgKyiKZMYm"
      }
    },
    {
      "cell_type": "code",
      "execution_count": 1,
      "metadata": {
        "id": "lQiDMHMLZJL0",
        "colab": {
          "base_uri": "https://localhost:8080/"
        },
        "outputId": "7544e2c6-dcbf-4d19-9a79-67d5ed69318e"
      },
      "outputs": [
        {
          "output_type": "stream",
          "name": "stdout",
          "text": [
            "Collecting pennylane-lightning[gpu]\n",
            "  Downloading PennyLane_Lightning-0.39.0-cp310-cp310-manylinux_2_28_x86_64.whl.metadata (26 kB)\n",
            "Collecting pennylane>=0.37 (from pennylane-lightning[gpu])\n",
            "  Downloading PennyLane-0.39.0-py3-none-any.whl.metadata (9.2 kB)\n",
            "Collecting pennylane-lightning-gpu (from pennylane-lightning[gpu])\n",
            "  Downloading PennyLane_Lightning_GPU-0.39.0-cp310-cp310-manylinux_2_28_x86_64.whl.metadata (26 kB)\n",
            "Requirement already satisfied: numpy<2.1 in /usr/local/lib/python3.10/dist-packages (from pennylane>=0.37->pennylane-lightning[gpu]) (1.26.4)\n",
            "Requirement already satisfied: scipy in /usr/local/lib/python3.10/dist-packages (from pennylane>=0.37->pennylane-lightning[gpu]) (1.13.1)\n",
            "Requirement already satisfied: networkx in /usr/local/lib/python3.10/dist-packages (from pennylane>=0.37->pennylane-lightning[gpu]) (3.4.2)\n",
            "Collecting rustworkx>=0.14.0 (from pennylane>=0.37->pennylane-lightning[gpu])\n",
            "  Downloading rustworkx-0.15.1-cp38-abi3-manylinux_2_17_x86_64.manylinux2014_x86_64.whl.metadata (9.9 kB)\n",
            "Requirement already satisfied: autograd in /usr/local/lib/python3.10/dist-packages (from pennylane>=0.37->pennylane-lightning[gpu]) (1.7.0)\n",
            "Requirement already satisfied: toml in /usr/local/lib/python3.10/dist-packages (from pennylane>=0.37->pennylane-lightning[gpu]) (0.10.2)\n",
            "Collecting appdirs (from pennylane>=0.37->pennylane-lightning[gpu])\n",
            "  Downloading appdirs-1.4.4-py2.py3-none-any.whl.metadata (9.0 kB)\n",
            "Collecting autoray>=0.6.11 (from pennylane>=0.37->pennylane-lightning[gpu])\n",
            "  Downloading autoray-0.7.0-py3-none-any.whl.metadata (5.8 kB)\n",
            "Requirement already satisfied: cachetools in /usr/local/lib/python3.10/dist-packages (from pennylane>=0.37->pennylane-lightning[gpu]) (5.5.0)\n",
            "Requirement already satisfied: requests in /usr/local/lib/python3.10/dist-packages (from pennylane>=0.37->pennylane-lightning[gpu]) (2.32.3)\n",
            "Requirement already satisfied: typing-extensions in /usr/local/lib/python3.10/dist-packages (from pennylane>=0.37->pennylane-lightning[gpu]) (4.12.2)\n",
            "Requirement already satisfied: packaging in /usr/local/lib/python3.10/dist-packages (from pennylane>=0.37->pennylane-lightning[gpu]) (24.2)\n",
            "Requirement already satisfied: charset-normalizer<4,>=2 in /usr/local/lib/python3.10/dist-packages (from requests->pennylane>=0.37->pennylane-lightning[gpu]) (3.4.0)\n",
            "Requirement already satisfied: idna<4,>=2.5 in /usr/local/lib/python3.10/dist-packages (from requests->pennylane>=0.37->pennylane-lightning[gpu]) (3.10)\n",
            "Requirement already satisfied: urllib3<3,>=1.21.1 in /usr/local/lib/python3.10/dist-packages (from requests->pennylane>=0.37->pennylane-lightning[gpu]) (2.2.3)\n",
            "Requirement already satisfied: certifi>=2017.4.17 in /usr/local/lib/python3.10/dist-packages (from requests->pennylane>=0.37->pennylane-lightning[gpu]) (2024.8.30)\n",
            "Downloading PennyLane-0.39.0-py3-none-any.whl (1.9 MB)\n",
            "\u001b[2K   \u001b[90m━━━━━━━━━━━━━━━━━━━━━━━━━━━━━━━━━━━━━━━━\u001b[0m \u001b[32m1.9/1.9 MB\u001b[0m \u001b[31m18.5 MB/s\u001b[0m eta \u001b[36m0:00:00\u001b[0m\n",
            "\u001b[?25hDownloading PennyLane_Lightning-0.39.0-cp310-cp310-manylinux_2_28_x86_64.whl (1.7 MB)\n",
            "\u001b[2K   \u001b[90m━━━━━━━━━━━━━━━━━━━━━━━━━━━━━━━━━━━━━━━━\u001b[0m \u001b[32m1.7/1.7 MB\u001b[0m \u001b[31m25.2 MB/s\u001b[0m eta \u001b[36m0:00:00\u001b[0m\n",
            "\u001b[?25hDownloading PennyLane_Lightning_GPU-0.39.0-cp310-cp310-manylinux_2_28_x86_64.whl (776 kB)\n",
            "\u001b[2K   \u001b[90m━━━━━━━━━━━━━━━━━━━━━━━━━━━━━━━━━━━━━━━━\u001b[0m \u001b[32m776.7/776.7 kB\u001b[0m \u001b[31m14.5 MB/s\u001b[0m eta \u001b[36m0:00:00\u001b[0m\n",
            "\u001b[?25hDownloading autoray-0.7.0-py3-none-any.whl (930 kB)\n",
            "\u001b[2K   \u001b[90m━━━━━━━━━━━━━━━━━━━━━━━━━━━━━━━━━━━━━━━━\u001b[0m \u001b[32m930.0/930.0 kB\u001b[0m \u001b[31m11.9 MB/s\u001b[0m eta \u001b[36m0:00:00\u001b[0m\n",
            "\u001b[?25hDownloading rustworkx-0.15.1-cp38-abi3-manylinux_2_17_x86_64.manylinux2014_x86_64.whl (2.0 MB)\n",
            "\u001b[2K   \u001b[90m━━━━━━━━━━━━━━━━━━━━━━━━━━━━━━━━━━━━━━━━\u001b[0m \u001b[32m2.0/2.0 MB\u001b[0m \u001b[31m14.7 MB/s\u001b[0m eta \u001b[36m0:00:00\u001b[0m\n",
            "\u001b[?25hDownloading appdirs-1.4.4-py2.py3-none-any.whl (9.6 kB)\n",
            "Installing collected packages: appdirs, rustworkx, autoray, pennylane-lightning, pennylane, pennylane-lightning-gpu\n",
            "Successfully installed appdirs-1.4.4 autoray-0.7.0 pennylane-0.39.0 pennylane-lightning-0.39.0 pennylane-lightning-gpu-0.39.0 rustworkx-0.15.1\n",
            "Collecting qutip\n",
            "  Downloading qutip-5.0.4-cp310-cp310-manylinux_2_17_x86_64.manylinux2014_x86_64.whl.metadata (9.2 kB)\n",
            "Requirement already satisfied: numpy>=1.22 in /usr/local/lib/python3.10/dist-packages (from qutip) (1.26.4)\n",
            "Requirement already satisfied: scipy>=1.9 in /usr/local/lib/python3.10/dist-packages (from qutip) (1.13.1)\n",
            "Requirement already satisfied: packaging in /usr/local/lib/python3.10/dist-packages (from qutip) (24.2)\n",
            "Downloading qutip-5.0.4-cp310-cp310-manylinux_2_17_x86_64.manylinux2014_x86_64.whl (28.0 MB)\n",
            "\u001b[2K   \u001b[90m━━━━━━━━━━━━━━━━━━━━━━━━━━━━━━━━━━━━━━━━\u001b[0m \u001b[32m28.0/28.0 MB\u001b[0m \u001b[31m39.9 MB/s\u001b[0m eta \u001b[36m0:00:00\u001b[0m\n",
            "\u001b[?25hInstalling collected packages: qutip\n",
            "Successfully installed qutip-5.0.4\n",
            "Requirement already satisfied: gym in /usr/local/lib/python3.10/dist-packages (0.25.2)\n",
            "Requirement already satisfied: numpy>=1.18.0 in /usr/local/lib/python3.10/dist-packages (from gym) (1.26.4)\n",
            "Requirement already satisfied: cloudpickle>=1.2.0 in /usr/local/lib/python3.10/dist-packages (from gym) (3.1.0)\n",
            "Requirement already satisfied: gym-notices>=0.0.4 in /usr/local/lib/python3.10/dist-packages (from gym) (0.0.8)\n",
            "Requirement already satisfied: pygame in /usr/local/lib/python3.10/dist-packages (2.6.1)\n",
            "Requirement already satisfied: PennyLane in /usr/local/lib/python3.10/dist-packages (0.39.0)\n",
            "Requirement already satisfied: numpy<2.1 in /usr/local/lib/python3.10/dist-packages (from PennyLane) (1.26.4)\n",
            "Requirement already satisfied: scipy in /usr/local/lib/python3.10/dist-packages (from PennyLane) (1.13.1)\n",
            "Requirement already satisfied: networkx in /usr/local/lib/python3.10/dist-packages (from PennyLane) (3.4.2)\n",
            "Requirement already satisfied: rustworkx>=0.14.0 in /usr/local/lib/python3.10/dist-packages (from PennyLane) (0.15.1)\n",
            "Requirement already satisfied: autograd in /usr/local/lib/python3.10/dist-packages (from PennyLane) (1.7.0)\n",
            "Requirement already satisfied: toml in /usr/local/lib/python3.10/dist-packages (from PennyLane) (0.10.2)\n",
            "Requirement already satisfied: appdirs in /usr/local/lib/python3.10/dist-packages (from PennyLane) (1.4.4)\n",
            "Requirement already satisfied: autoray>=0.6.11 in /usr/local/lib/python3.10/dist-packages (from PennyLane) (0.7.0)\n",
            "Requirement already satisfied: cachetools in /usr/local/lib/python3.10/dist-packages (from PennyLane) (5.5.0)\n",
            "Requirement already satisfied: pennylane-lightning>=0.39 in /usr/local/lib/python3.10/dist-packages (from PennyLane) (0.39.0)\n",
            "Requirement already satisfied: requests in /usr/local/lib/python3.10/dist-packages (from PennyLane) (2.32.3)\n",
            "Requirement already satisfied: typing-extensions in /usr/local/lib/python3.10/dist-packages (from PennyLane) (4.12.2)\n",
            "Requirement already satisfied: packaging in /usr/local/lib/python3.10/dist-packages (from PennyLane) (24.2)\n",
            "Requirement already satisfied: charset-normalizer<4,>=2 in /usr/local/lib/python3.10/dist-packages (from requests->PennyLane) (3.4.0)\n",
            "Requirement already satisfied: idna<4,>=2.5 in /usr/local/lib/python3.10/dist-packages (from requests->PennyLane) (3.10)\n",
            "Requirement already satisfied: urllib3<3,>=1.21.1 in /usr/local/lib/python3.10/dist-packages (from requests->PennyLane) (2.2.3)\n",
            "Requirement already satisfied: certifi>=2017.4.17 in /usr/local/lib/python3.10/dist-packages (from requests->PennyLane) (2024.8.30)\n"
          ]
        }
      ],
      "source": [
        "!pip install pennylane-lightning[gpu]\n",
        "!pip install qutip\n",
        "!pip install gym\n",
        "!pip install pygame\n",
        "# Necessary imports\n",
        "\n",
        "import numpy as np\n",
        "import matplotlib.pyplot as plt\n",
        "import qutip\n",
        "from torch import Tensor\n",
        "from torch.nn import Linear, CrossEntropyLoss, MSELoss\n",
        "from torch.optim import LBFGS\n",
        "import cmath\n",
        "from sklearn.decomposition import PCA\n",
        "\n",
        "\n",
        "# Additional torch-related imports\n",
        "import torch\n",
        "from torch import cat, no_grad, manual_seed\n",
        "from torchvision import datasets, transforms\n",
        "from torch.utils.data import DataLoader, Dataset\n",
        "import torch.optim as optim\n",
        "from torch.nn import (\n",
        "    Module,\n",
        "    Conv2d,\n",
        "    Linear,\n",
        "    Dropout2d,\n",
        "    NLLLoss,\n",
        "    MaxPool2d,\n",
        "    Flatten,\n",
        "    Sequential,\n",
        "    ReLU,\n",
        ")\n",
        "import torch.nn.functional as F\n",
        "import gym\n",
        "\n",
        "\n",
        "!pip install PennyLane\n",
        "\n",
        "import pennylane as qml\n",
        "from pennylane.optimize import AdamOptimizer, GradientDescentOptimizer\n",
        "import matplotlib.pyplot as plt\n",
        "import math\n",
        "from sklearn.metrics import accuracy_score\n",
        "\n",
        "import torch\n",
        "import torch.nn as nn\n",
        "import torch.nn.functional as F\n",
        "import torch.optim as optim\n",
        "import argparse\n",
        "\n",
        "\n",
        "from torch.optim.lr_scheduler import CosineAnnealingLR\n",
        "from torchvision import transforms\n",
        "from torchvision import datasets\n",
        "from torch.utils.data import DataLoader\n",
        "import os\n",
        "import pandas as pd\n"
      ]
    },
    {
      "cell_type": "code",
      "source": [
        "dev = qml.device('default.qubit', wires=2)\n",
        "\n",
        "@qml.qnode(dev)\n",
        "def angle_circuit_rx(output = 'X'):\n",
        "    qml.RX(0.2, wires=0)\n",
        "    qml.RX(0.3, wires=1)\n",
        "    qml.CNOT(wires=[0,1])\n",
        "    qml.RX(0.2, wires=0)\n",
        "    qml.RX(0.3, wires=1)\n",
        "    if output == 'X':\n",
        "        return (qml.expval(qml.PauliX(0)), qml.expval(qml.PauliX(1)))\n",
        "    elif output == 'Y':\n",
        "        return (qml.expval(qml.PauliY(0)), qml.expval(qml.PauliY(1)))\n",
        "    else:\n",
        "        return (qml.expval(qml.PauliZ(0)), qml.expval(qml.PauliZ(1)))\n",
        "\n",
        "b1 = angle_circuit_rx(output = 'X')\n",
        "b2 = angle_circuit_rx(output = 'Y')\n",
        "b3 = angle_circuit_rx(output = 'Z')\n",
        "\n",
        "print(b1)\n",
        "print(b2)\n",
        "print(b3)"
      ],
      "metadata": {
        "colab": {
          "base_uri": "https://localhost:8080/"
        },
        "id": "x11dMMYPtFlm",
        "outputId": "406cb4d2-dd6c-48f2-834a-41211ee88b61"
      },
      "execution_count": 2,
      "outputs": [
        {
          "output_type": "stream",
          "name": "stdout",
          "text": [
            "(1.1102230246251565e-16, -1.1102230246251565e-16)\n",
            "(-0.19470917115432512, -0.5533872166040865)\n",
            "(0.9605304970014426, 0.8088838516750252)\n"
          ]
        },
        {
          "output_type": "stream",
          "name": "stderr",
          "text": [
            "/usr/local/lib/python3.10/dist-packages/ipykernel/ipkernel.py:283: DeprecationWarning: `should_run_async` will not call `transform_cell` automatically in the future. Please pass the result to `transformed_cell` argument and any exception that happen during thetransform in `preprocessing_exc_tuple` in IPython 7.17 and above.\n",
            "  and should_run_async(code)\n"
          ]
        }
      ]
    },
    {
      "cell_type": "markdown",
      "source": [
        "# bloch sphere"
      ],
      "metadata": {
        "id": "MSvZhtRQZQcm"
      }
    },
    {
      "cell_type": "markdown",
      "source": [
        "## case 1"
      ],
      "metadata": {
        "id": "-gCUipSWZSSZ"
      }
    },
    {
      "cell_type": "code",
      "source": [
        "dev = qml.device('default.qubit', wires=1)\n",
        "\n",
        "@qml.qnode(dev)\n",
        "def angle_circuit(feature_vector, output = 'X'):\n",
        "    qml.AngleEmbedding(features=feature_vector, wires=range(1), rotation='X')\n",
        "    if output == 'X':\n",
        "        return (qml.expval(qml.PauliX(0)))\n",
        "    elif output == 'Y':\n",
        "        return (qml.expval(qml.PauliY(0)))\n",
        "    else:\n",
        "        return (qml.expval(qml.PauliZ(0)))\n",
        "\n",
        "\n",
        "@qml.qnode(dev)\n",
        "def angle_circuit_trojan1(feature_vector, output = 'X'):\n",
        "    qml.RX(math.pi/2, wires=0)\n",
        "    qml.AngleEmbedding(features=feature_vector, wires=range(1), rotation='Y')\n",
        "    if output == 'X':\n",
        "        return (qml.expval(qml.PauliX(0)))\n",
        "    elif output == 'Y':\n",
        "        return (qml.expval(qml.PauliY(0)))\n",
        "    else:\n",
        "        return (qml.expval(qml.PauliZ(0)))\n",
        "\n",
        "\n",
        "@qml.qnode(dev)\n",
        "def angle_circuit_trojan2(feature_vector, output = 'X'):\n",
        "    # qml.RX(-math.pi/2, wires=0)\n",
        "    # qml.AngleEmbedding(features=feature_vector, wires=range(1), rotation='Y')\n",
        "    # if output == 'X':\n",
        "    #     return (qml.expval(qml.PauliX(0)))\n",
        "    # elif output == 'Y':\n",
        "    #     return (qml.expval(qml.PauliY(0)))\n",
        "    # else:\n",
        "    #     return (qml.expval(qml.PauliZ(0)))\n",
        "    qml.Hadamard(wires=0)\n",
        "    if output == 'X':\n",
        "        return (qml.expval(qml.PauliX(0)))\n",
        "    elif output == 'Y':\n",
        "        return (qml.expval(qml.PauliY(0)))\n",
        "    else:\n",
        "        return (qml.expval(qml.PauliZ(0)))\n",
        "\n",
        "\n",
        "\n",
        "\n",
        "\n",
        "b = qutip.Bloch()\n",
        "\n",
        "fi = np.random.uniform(0, np.pi/2, 200)\n",
        "\n",
        "xz = []\n",
        "yz = []\n",
        "zz = []\n",
        "\n",
        "xz1 = []\n",
        "yz1 = []\n",
        "zz1 = []\n",
        "\n",
        "xz2 = []\n",
        "yz2 = []\n",
        "zz2 = []\n",
        "\n",
        "for i in range(len(fi)):\n",
        "    xz.append(angle_circuit([fi[i]], output = 'X'))\n",
        "    yz.append(angle_circuit([fi[i]], output = 'Y'))\n",
        "    zz.append(angle_circuit([fi[i]], output = 'Z'))\n",
        "\n",
        "    xz1.append(angle_circuit_trojan1([fi[i]], output = 'X'))\n",
        "    yz1.append(angle_circuit_trojan1([fi[i]], output = 'Y'))\n",
        "    zz1.append(angle_circuit_trojan1([fi[i]], output = 'Z'))\n",
        "\n",
        "    xz2.append(angle_circuit_trojan2([fi[i]], output = 'X'))\n",
        "    yz2.append(angle_circuit_trojan2([fi[i]], output = 'Y'))\n",
        "    zz2.append(angle_circuit_trojan2([fi[i]], output = 'Z'))\n",
        "\n",
        "\n",
        "b.add_points([xz2, yz2, zz2])\n",
        "# b.add_points([xz1, yz1, zz1])\n",
        "# b.add_points([xz, yz, zz])\n",
        "\n",
        "b.make_sphere()\n",
        "b.save('case1.png')"
      ],
      "metadata": {
        "id": "ytqZduWuZUVh"
      },
      "execution_count": 3,
      "outputs": []
    },
    {
      "cell_type": "markdown",
      "source": [
        "## case 2"
      ],
      "metadata": {
        "id": "0sp_CBKVFo0t"
      }
    },
    {
      "cell_type": "code",
      "source": [
        "dev = qml.device('default.qubit', wires=1)\n",
        "\n",
        "@qml.qnode(dev)\n",
        "def angle_circuit_rx(feature_vector, output = 'X'):\n",
        "    qml.AngleEmbedding(features=feature_vector, wires=range(1), rotation='X')\n",
        "    if output == 'X':\n",
        "        return (qml.expval(qml.PauliX(0)))\n",
        "    elif output == 'Y':\n",
        "        return (qml.expval(qml.PauliY(0)))\n",
        "    else:\n",
        "        return (qml.expval(qml.PauliZ(0)))\n",
        "\n",
        "\n",
        "@qml.qnode(dev)\n",
        "def angle_circuit_ry(feature_vector, output = 'X'):\n",
        "    qml.AngleEmbedding(features=feature_vector, wires=range(1), rotation='Y')\n",
        "    if output == 'X':\n",
        "        return (qml.expval(qml.PauliX(0)))\n",
        "    elif output == 'Y':\n",
        "        return (qml.expval(qml.PauliY(0)))\n",
        "    else:\n",
        "        return (qml.expval(qml.PauliZ(0)))\n",
        "\n",
        "\n",
        "@qml.qnode(dev)\n",
        "def angle_circuit_fix(feature_vector, output = 'X'):\n",
        "    qml.RX(math.pi/2, wires=0)\n",
        "    qml.AngleEmbedding(features=feature_vector, wires=range(1), rotation='Y')\n",
        "    if output == 'X':\n",
        "        return (qml.expval(qml.PauliX(0)))\n",
        "    elif output == 'Y':\n",
        "        return (qml.expval(qml.PauliY(0)))\n",
        "    else:\n",
        "        return (qml.expval(qml.PauliZ(0)))\n",
        "\n",
        "\n",
        "\n",
        "\n",
        "\n",
        "b = qutip.Bloch()\n",
        "\n",
        "fi = np.random.uniform(0, np.pi/2, 500)\n",
        "fi1 = np.random.uniform(np.pi/2, np.pi*2, 500)\n",
        "fi2 = np.random.uniform(0, np.pi*2, 500)\n",
        "\n",
        "xz = []\n",
        "yz = []\n",
        "zz = []\n",
        "\n",
        "xz1 = []\n",
        "yz1 = []\n",
        "zz1 = []\n",
        "\n",
        "xz2 = []\n",
        "yz2 = []\n",
        "zz2 = []\n",
        "\n",
        "xz3 = []\n",
        "yz3 = []\n",
        "zz3 = []\n",
        "\n",
        "for i in range(len(fi)):\n",
        "    xz.append(angle_circuit_rx([fi[i]], output = 'X'))\n",
        "    yz.append(angle_circuit_rx([fi[i]], output = 'Y'))\n",
        "    zz.append(angle_circuit_rx([fi[i]], output = 'Z'))\n",
        "\n",
        "for i in range(len(fi2)):\n",
        "    xz1.append(angle_circuit_fix([fi2[i]], output = 'X'))\n",
        "    yz1.append(angle_circuit_fix([fi2[i]], output = 'Y'))\n",
        "    zz1.append(angle_circuit_fix([fi2[i]], output = 'Z'))\n",
        "\n",
        "for i in range(len(fi)):\n",
        "    xz2.append(angle_circuit_rx([fi1[i]], output = 'X'))\n",
        "    yz2.append(angle_circuit_rx([fi1[i]], output = 'Y'))\n",
        "    zz2.append(angle_circuit_rx([fi1[i]], output = 'Z'))\n",
        "\n",
        "for i in range(len(fi2)):\n",
        "    xz3.append(angle_circuit_ry([fi2[i]], output = 'X'))\n",
        "    yz3.append(angle_circuit_ry([fi2[i]], output = 'Y'))\n",
        "    zz3.append(angle_circuit_ry([fi2[i]], output = 'Z'))\n",
        "\n",
        "\n",
        "b.add_points([xz2, yz2, zz2])\n",
        "b.add_points([xz1, yz1, zz1])\n",
        "b.add_points([xz, yz, zz])\n",
        "b.add_points([xz3, yz3, zz3])\n",
        "\n",
        "b.make_sphere()\n",
        "b.save('case2.png')"
      ],
      "metadata": {
        "id": "ncki4PbAFuO2"
      },
      "execution_count": 4,
      "outputs": []
    },
    {
      "cell_type": "code",
      "source": [
        "print(zz)\n",
        "print(zz1)\n",
        "print(zz2)\n",
        "print(zz3)"
      ],
      "metadata": {
        "colab": {
          "base_uri": "https://localhost:8080/"
        },
        "id": "QZMg2O9UOIig",
        "outputId": "5c619e61-2eaa-4389-836e-580335283220"
      },
      "execution_count": 5,
      "outputs": [
        {
          "output_type": "stream",
          "name": "stdout",
          "text": [
            "[0.5902445673541156, 0.33971918094533243, 0.3303257340775733, 0.9804178593084621, 0.415254266909145, 0.1459569690374678, 0.17274607466970515, 0.9949254595054603, 0.5301095998472937, 0.3095987580896463, 0.455304229378106, 0.9888375134619829, 0.9818704029580598, 0.5158120682888492, 0.2552884404989526, 0.6584169516352628, 0.9268481085833076, 0.7136448146745754, 0.6215099044249226, 0.12377169546466138, 0.8856966425995212, 0.9764423507399087, 0.37962145065104885, 0.31735048719978826, 0.9231870446132546, 0.9231947691214356, 0.42328206936688517, 0.3154105205216056, 0.2508629606996995, 0.9131351555190182, 0.9907532481614671, 0.9558769540249451, 0.9858053186559605, 0.5292854901964881, 0.8561718309005107, 0.06641541912423332, 0.9976125977916942, 0.32793720063948834, 0.6000074036904568, 0.90493730479481, 0.5081493550415319, 0.0521836548586867, 0.8918076113830723, 0.6704893261632705, 0.9920089662250838, 0.7220176658133031, 0.10831614117755356, 0.9325549702337651, 0.963522814771328, 0.08083642127148949, 0.7381322183823882, 0.46555115938379327, 0.6717788465004946, 0.7151333909665583, 0.9893420398181739, 0.024145739767643226, 0.17638034284123322, 0.9409875451695633, 0.2703735136504246, 0.9971435109993886, 0.3269877283070619, 0.7487337113461507, 0.5586584246380734, 0.7835801138962479, 0.8416964051063723, 0.7804166032099069, 0.756508966508997, 0.866921390532752, 0.8359283076273094, 0.2523286461791481, 0.5180692679381587, 0.8659494105864952, 0.8254770540544883, 0.8635841690226037, 0.25168925958630584, 0.1866750640014807, 0.9661844800394692, 0.7775387166929059, 0.6342425243021106, 0.7451522221505643, 0.1406018081520164, 0.35608887528436994, 0.3184995491724451, 0.6653915492675954, 0.6246616294461556, 0.8142147076301031, 0.8955420520860744, 0.6586849994810093, 0.1840406813997068, 0.24541139839655224, 0.7071069084950291, 0.026427245139841127, 0.8010156095812113, 0.34101886834937273, 0.8434939332892628, 0.6930570180162694, 0.8962792766006838, 0.967551536585584, 0.941232514317514, 0.9822724127306312, 0.7284053916124238, 0.9388317255875649, 0.06689228846094791, 0.20870296838259472, 0.9963809105804023, 0.5446937363270363, 0.9998149050737023, 0.9999592128960941, 0.44763801808474396, 0.536464889915131, 0.7050189714494062, 0.1611119580234861, 0.9800622516692715, 0.5566151211485949, 0.9165417631211594, 0.9586919383424298, 0.9962693907483621, 0.8393001481366356, 0.9782177102089418, 0.17711426762449373, 0.6352799538906813, 0.9456448036150223, 0.9483225838926574, 0.4885207743925938, 0.8992765450802065, 0.984207888788704, 0.9327355191658061, 0.8282695190249, 0.8803270866615274, 0.7048814435258137, 0.5087323670755803, 0.9990988857453441, 0.5989962102306647, 0.0375844430122641, 0.9916832287319886, 0.6509506443609697, 0.5738711206916054, 0.11458849636375801, 0.5426912416487755, 0.8667181090377827, 0.9045773545149141, 0.5004235416647556, 0.9417074332952201, 0.4875477969935282, 0.9831443963267013, 0.4765083106736049, 0.9171518856445415, 0.9645270864844961, 0.12106938392105276, 0.9145614177796182, 0.9536073647463746, 0.8657673555349286, 0.98105653937385, 0.1963108743875268, 0.998929309471512, 0.9279906581023093, 0.10989604547354598, 0.560476762142347, 0.9987437900722478, 0.35893296560791865, 0.35039524685160073, 0.7875617680528366, 0.9571550695247074, 0.6811450876073447, 0.3699012952371714, 0.35241969070522455, 0.36702671892777794, 0.6009000162652498, 0.35668185974723865, 0.39358290544168195, 0.3869290919708293, 0.9884998784234802, 0.700553589934833, 0.26914411427912166, 0.9916873864596181, 0.6308612633124502, 0.02876085315072091, 0.25659969069919525, 0.3803293485972262, 0.8543302655080015, 0.6001966941150929, 0.995191406429192, 0.4211534267556539, 0.9720670119223158, 0.008470135494551667, 0.9988387913712375, 0.253138178391031, 0.07758029933490984, 0.1416376602568316, 0.9626538060030936, 0.33058161653130747, 0.9033492902991782, 0.8919057598997431, 0.7415762460213039, 0.15312761288275178, 0.8745684769127716, 0.23779484518982252, 0.999994431553719, 0.7411830604471039, 0.9410722015784161, 0.4829173903639375, 0.31972775904264794, 0.758812441386099, 0.3049273129104042, 0.7800564248553572, 0.8247204363295223, 0.8602142288851338, 0.7611933338816951, 0.3768930140281455, 0.025599414068144866, 0.7636507740825893, 0.19676467495177913, 0.27788201705262067, 0.6102933756937206, 0.05147364573674451, 0.2576126570415295, 0.2981570041103366, 0.9977960609860013, 0.30021403247620143, 0.04814579685774423, 0.9403730236217915, 0.9965828582444723, 0.6054786307071716, 0.4807885897363671, 0.7357806160185941, 0.40169675791846776, 0.9738652091684983, 0.710906456695908, 0.089226722458774, 0.5330060039428132, 0.9980249131733586, 0.4500347196602976, 0.9069657462893742, 0.6221738950647246, 0.9765413141272706, 0.29610073499689443, 0.09134697704883898, 0.3036203936304703, 0.7140338495221641, 0.5786087535046326, 0.5607726245529608, 0.09629577988885496, 0.8524687784335495, 0.4858512453213082, 0.9872009395617442, 0.11160507623443311, 0.8959023725100086, 0.005988392795026554, 0.9349417183822535, 0.06810473031373898, 0.8956467682300857, 0.9929007309419495, 0.5783072022338913, 0.8759449014315589, 0.3084122399008055, 0.1696109365610109, 0.609857953861008, 0.9937936084427405, 0.7490828786553946, 0.6225008898388509, 0.801335772821447, 0.7006922936947015, 0.9842690462914234, 0.8206236035613909, 0.15439723013854578, 0.9999310486239523, 0.9365620329887732, 0.9975953656157975, 0.7272155085628547, 0.8361873279641479, 0.6642915405512292, 0.8225152937491632, 0.9999530269182684, 0.6676967307598308, 0.9923581278080246, 0.9937188611608152, 0.11372917890862999, 0.9921751387475192, 0.9968526486085946, 0.8910301456819909, 0.9999998245587393, 0.4198379231477091, 0.4479580592778811, 0.03653394788652703, 0.5383615877896304, 0.48224670959236676, 0.06280179636052624, 0.8424281782415769, 0.24024240084575382, 0.8714607065597711, 0.4325342747798635, 0.7391692241795416, 0.24503562590701278, 0.5907597595703358, 0.5834347027538478, 0.9719472312830779, 0.9000050974603937, 0.9104917409193232, 0.44489708885154716, 0.14389326692574184, 0.4795476112878996, 0.9244359580514839, 0.10088479759913688, 0.6777352161547219, 0.6584160378336265, 0.35608410977627936, 0.01553480289055681, 0.5026226434774517, 0.9851539614650644, 0.6420287920228351, 0.2833697419352701, 0.07026434821585098, 0.6508700838425775, 0.9878677642864315, 0.7030070372892943, 0.6257280630149994, 0.9995103305955143, 0.6054787162410907, 0.908527721017268, 0.5671950719971537, 0.4233240237590737, 0.999951971208152, 0.005997886530017094, 0.15799813779715327, 0.8885437557652766, 0.060099056485192814, 0.48126650014640754, 0.9754529053109956, 0.004671897730328833, 0.2514118638764293, 0.8520241902967937, 0.9999890025484869, 0.8686432244003528, 0.4434417309318178, 0.10073348605421134, 0.6633342288840813, 0.9962817469032414, 0.8148987107445327, 0.8555961440113155, 0.9093602404629819, 0.9855099358122525, 0.24723969842165627, 0.5683040909295236, 0.9132763197560628, 0.8626121479039124, 0.7399396429701399, 0.9029572580892157, 0.19186150030476018, 0.6317021222547757, 0.634826977789167, 0.9840893571032321, 0.9993914761878653, 0.17393106176229994, 0.3062422605633406, 0.3119309655505839, 0.8980624843352668, 0.8662189918387458, 0.1022109628553306, 0.4865059942293793, 0.8675551723842927, 0.8876607887942645, 0.7060575628011803, 0.5643536696084999, 0.9993934226503415, 0.9940545613751175, 0.5605486744924759, 0.948886364574686, 0.4253846300984725, 0.9743246354005073, 0.348598360579972, 0.6741817893971445, 0.6825146621706915, 0.34616794687418706, 0.015807446616913134, 0.5536001740051287, 0.38533904980790074, 0.8161551559790294, 0.22976971831465492, 0.4456384057883203, 0.8105933668129002, 0.01055151384957509, 0.6112413650824151, 0.7205264336036645, 0.9938998066552389, 0.9654709554384662, 0.9999451085116015, 0.9323406284484382, 0.39958513739369, 0.3522216664144333, 0.8192195966483785, 0.6343610455039538, 0.9974677622014267, 0.8849294077882173, 0.09633138783310935, 0.9999091432546824, 0.46921638831558954, 0.2589989697409611, 0.8497112344038259, 0.600725260422887, 0.571049821953213, 0.7028538843580278, 0.9827177843458739, 0.6918606800020684, 0.5184503917506025, 0.019263328815522174, 0.8980488388706233, 0.01577422208270901, 0.9852696751897015, 0.5985756865372066, 0.9575723219866572, 0.9038339683880136, 0.9951764137769614, 0.9971580124889309, 0.9472071064556087, 0.9056334522555506, 0.5417025024064324, 0.5985723003130516, 0.31210463907910246, 0.2624107157547968, 0.4634352669589753, 0.9662988450992024, 0.9943087128239405, 0.9198851508636652, 0.9167269956839854, 0.9786623755858774, 0.9526003000987986, 0.1977980381525702, 0.9905159340792544, 0.5846961456629804, 0.027507526918501612, 0.9999726752482047, 0.7648465156523798, 0.38736169341042487, 0.9793270066720603, 0.7280059636686983, 0.978856588287338, 0.8036943834932495, 0.5502959760175186, 0.9313564039890936, 0.1488740510936531, 0.9283613704779828, 0.9857741748622274, 0.9982951124218368, 0.9833879542632251, 0.6416258611259948, 0.8591185583947816, 0.731650204100738, 0.9986771969760425, 0.1349008671153003, 0.9070606989279199, 0.2644481971524629, 0.22989395001638685, 0.9996985598842422, 0.975416083337525, 0.6895576940159663, 0.44985536176197133, 0.9961085735638127, 0.40032438325986747, 0.38141417496785823, 0.1316947801530684, 0.11958377711865675, 0.7285027329671108, 0.6795369102782082, 0.3582258671048756, 0.4765327869547457, 0.9787176633489966, 0.5126176783358989, 0.5234615374775471, 0.20451612144587622, 0.5103027856380431, 0.17384636231167683, 0.9983513812326341, 0.1997147211698873, 0.62794184658268, 0.9890687555748814, 0.6201861987717021, 0.8677985190162903, 0.13631329785413732, 0.5902915477382427, 0.05489054308423785, 0.9859220563442516, 0.413321026754616, 0.9619162425057383, 0.9986323065281181, 0.6048249157878343, 0.7662315000653436, 0.8809142882413268, 0.9981195441097881, 0.8435236607050036, 0.8943310723931307, 0.3843069637280498, 0.5292388655476661, 0.8479131827123797, 0.6208115383478281, 0.9926591988869868, 0.4630953594710029, 0.5918218015512052, 0.1531637117081584, 0.41841580166803133, 0.9920183772209559]\n",
            "[-1.1102230246251565e-16, -2.220446049250313e-16, 1.1102230246251565e-16, -1.1102230246251565e-16, 0.0, 0.0, -1.6653345369377348e-16, 1.6653345369377348e-16, 1.6653345369377348e-16, 0.0, 0.0, 2.220446049250313e-16, -1.6653345369377348e-16, 1.1102230246251565e-16, -1.1102230246251565e-16, 1.6653345369377348e-16, 1.1102230246251565e-16, 0.0, -5.551115123125783e-17, -5.551115123125783e-17, 1.1102230246251565e-16, -2.220446049250313e-16, 5.551115123125783e-17, 2.220446049250313e-16, -1.1102230246251565e-16, 0.0, -1.1102230246251565e-16, -1.1102230246251565e-16, -1.6653345369377348e-16, 0.0, 2.220446049250313e-16, -1.6653345369377348e-16, -1.6653345369377348e-16, 1.1102230246251565e-16, 1.1102230246251565e-16, 1.1102230246251565e-16, 1.1102230246251565e-16, 5.551115123125783e-17, -1.1102230246251565e-16, 5.551115123125783e-17, 0.0, 1.1102230246251565e-16, 1.1102230246251565e-16, 0.0, 1.1102230246251565e-16, 1.1102230246251565e-16, 5.551115123125783e-17, -5.551115123125783e-17, 1.1102230246251565e-16, -1.1102230246251565e-16, 5.551115123125783e-17, 1.6653345369377348e-16, 2.220446049250313e-16, 2.220446049250313e-16, -1.1102230246251565e-16, 0.0, 5.551115123125783e-17, -1.1102230246251565e-16, 1.6653345369377348e-16, -1.1102230246251565e-16, 1.6653345369377348e-16, -1.1102230246251565e-16, 1.1102230246251565e-16, 2.220446049250313e-16, 0.0, 1.6653345369377348e-16, 1.1102230246251565e-16, 2.220446049250313e-16, 2.220446049250313e-16, -1.1102230246251565e-16, 1.1102230246251565e-16, -5.551115123125783e-17, -2.220446049250313e-16, 5.551115123125783e-17, 2.220446049250313e-16, 5.551115123125783e-17, 1.1102230246251565e-16, 1.1102230246251565e-16, -1.1102230246251565e-16, -1.6653345369377348e-16, 0.0, -1.6653345369377348e-16, 1.1102230246251565e-16, 1.1102230246251565e-16, -1.6653345369377348e-16, 1.1102230246251565e-16, 1.6653345369377348e-16, -1.1102230246251565e-16, -1.1102230246251565e-16, 0.0, -1.6653345369377348e-16, 1.1102230246251565e-16, 1.6653345369377348e-16, -5.551115123125783e-17, 1.1102230246251565e-16, -1.1102230246251565e-16, 1.6653345369377348e-16, -1.6653345369377348e-16, 1.1102230246251565e-16, -5.551115123125783e-17, -1.1102230246251565e-16, -1.6653345369377348e-16, 0.0, 0.0, -1.1102230246251565e-16, 1.1102230246251565e-16, -5.551115123125783e-17, -1.1102230246251565e-16, 1.6653345369377348e-16, 1.1102230246251565e-16, -1.1102230246251565e-16, 2.220446049250313e-16, -1.1102230246251565e-16, -1.6653345369377348e-16, -1.1102230246251565e-16, 0.0, 1.1102230246251565e-16, 5.551115123125783e-17, 1.6653345369377348e-16, 0.0, 0.0, -1.1102230246251565e-16, -1.1102230246251565e-16, -1.1102230246251565e-16, -1.1102230246251565e-16, 0.0, 1.1102230246251565e-16, -1.6653345369377348e-16, -2.220446049250313e-16, -5.551115123125783e-17, -1.6653345369377348e-16, -1.1102230246251565e-16, 1.1102230246251565e-16, 0.0, 1.1102230246251565e-16, -1.6653345369377348e-16, 1.1102230246251565e-16, 0.0, 2.220446049250313e-16, 1.1102230246251565e-16, 0.0, 1.1102230246251565e-16, -5.551115123125783e-17, -1.1102230246251565e-16, 5.551115123125783e-17, 0.0, -1.6653345369377348e-16, -1.1102230246251565e-16, 0.0, 2.220446049250313e-16, 0.0, -1.1102230246251565e-16, 0.0, -2.220446049250313e-16, 2.220446049250313e-16, 0.0, -1.6653345369377348e-16, -1.6653345369377348e-16, -1.1102230246251565e-16, 5.551115123125783e-17, -2.220446049250313e-16, -1.6653345369377348e-16, -1.1102230246251565e-16, 0.0, 1.6653345369377348e-16, -1.1102230246251565e-16, 1.1102230246251565e-16, 1.1102230246251565e-16, -5.551115123125783e-17, -1.1102230246251565e-16, 0.0, 1.1102230246251565e-16, 1.1102230246251565e-16, 1.1102230246251565e-16, 5.551115123125783e-17, -1.6653345369377348e-16, 0.0, -5.551115123125783e-17, 1.1102230246251565e-16, 5.551115123125783e-17, -1.1102230246251565e-16, -1.6653345369377348e-16, 5.551115123125783e-17, -1.1102230246251565e-16, -1.6653345369377348e-16, 2.220446049250313e-16, 0.0, 0.0, 1.1102230246251565e-16, -5.551115123125783e-17, 0.0, -1.6653345369377348e-16, -2.220446049250313e-16, 0.0, -1.1102230246251565e-16, 1.1102230246251565e-16, 0.0, 5.551115123125783e-17, -2.220446049250313e-16, 5.551115123125783e-17, 0.0, 1.6653345369377348e-16, 0.0, 5.551115123125783e-17, 5.551115123125783e-17, -1.6653345369377348e-16, 5.551115123125783e-17, 1.1102230246251565e-16, 0.0, -1.1102230246251565e-16, 0.0, -1.1102230246251565e-16, 1.6653345369377348e-16, 1.1102230246251565e-16, 1.1102230246251565e-16, -1.6653345369377348e-16, -1.1102230246251565e-16, -5.551115123125783e-17, 1.1102230246251565e-16, 1.1102230246251565e-16, 1.1102230246251565e-16, 1.1102230246251565e-16, -1.6653345369377348e-16, 0.0, -1.6653345369377348e-16, -1.6653345369377348e-16, 5.551115123125783e-17, -1.6653345369377348e-16, -1.6653345369377348e-16, 1.6653345369377348e-16, 1.1102230246251565e-16, -1.6653345369377348e-16, 1.1102230246251565e-16, -2.220446049250313e-16, -1.1102230246251565e-16, 0.0, -1.1102230246251565e-16, 1.6653345369377348e-16, 1.1102230246251565e-16, -1.6653345369377348e-16, 1.1102230246251565e-16, -5.551115123125783e-17, -1.1102230246251565e-16, 0.0, -1.1102230246251565e-16, 0.0, -1.1102230246251565e-16, -2.220446049250313e-16, 1.1102230246251565e-16, -1.1102230246251565e-16, -1.1102230246251565e-16, 0.0, -1.1102230246251565e-16, -1.6653345369377348e-16, -5.551115123125783e-17, -1.1102230246251565e-16, 1.6653345369377348e-16, -5.551115123125783e-17, 1.1102230246251565e-16, -1.1102230246251565e-16, -1.6653345369377348e-16, 0.0, -5.551115123125783e-17, -1.1102230246251565e-16, -1.1102230246251565e-16, 0.0, 1.1102230246251565e-16, 0.0, -1.1102230246251565e-16, 1.6653345369377348e-16, -1.1102230246251565e-16, 2.220446049250313e-16, 1.1102230246251565e-16, -1.1102230246251565e-16, 1.1102230246251565e-16, 0.0, 1.6653345369377348e-16, -1.1102230246251565e-16, 1.1102230246251565e-16, -1.6653345369377348e-16, 1.6653345369377348e-16, 1.6653345369377348e-16, 1.1102230246251565e-16, -5.551115123125783e-17, 1.1102230246251565e-16, -1.1102230246251565e-16, 0.0, 1.1102230246251565e-16, -2.220446049250313e-16, -1.1102230246251565e-16, 1.6653345369377348e-16, 1.1102230246251565e-16, 1.1102230246251565e-16, 1.1102230246251565e-16, 1.1102230246251565e-16, -1.1102230246251565e-16, 2.220446049250313e-16, -2.220446049250313e-16, -1.1102230246251565e-16, -1.6653345369377348e-16, 1.1102230246251565e-16, 2.220446049250313e-16, 1.6653345369377348e-16, -1.6653345369377348e-16, -1.1102230246251565e-16, 1.6653345369377348e-16, -1.6653345369377348e-16, -1.6653345369377348e-16, 0.0, 0.0, -1.1102230246251565e-16, -5.551115123125783e-17, -1.6653345369377348e-16, 1.6653345369377348e-16, 5.551115123125783e-17, -1.1102230246251565e-16, -2.220446049250313e-16, 1.1102230246251565e-16, 1.6653345369377348e-16, 1.6653345369377348e-16, 2.220446049250313e-16, -1.1102230246251565e-16, 1.1102230246251565e-16, -2.220446049250313e-16, -1.6653345369377348e-16, -1.1102230246251565e-16, -5.551115123125783e-17, 0.0, -1.1102230246251565e-16, 1.1102230246251565e-16, -1.1102230246251565e-16, 5.551115123125783e-17, 1.6653345369377348e-16, 1.1102230246251565e-16, -1.6653345369377348e-16, 1.6653345369377348e-16, -1.6653345369377348e-16, 5.551115123125783e-17, 1.6653345369377348e-16, 1.1102230246251565e-16, -1.1102230246251565e-16, 1.6653345369377348e-16, 1.6653345369377348e-16, 5.551115123125783e-17, 0.0, -5.551115123125783e-17, 0.0, 1.1102230246251565e-16, -1.6653345369377348e-16, 1.1102230246251565e-16, -1.1102230246251565e-16, -1.1102230246251565e-16, 5.551115123125783e-17, 0.0, -1.1102230246251565e-16, -1.1102230246251565e-16, -1.1102230246251565e-16, -2.220446049250313e-16, 1.6653345369377348e-16, -2.220446049250313e-16, -5.551115123125783e-17, 5.551115123125783e-17, 1.6653345369377348e-16, 5.551115123125783e-17, -5.551115123125783e-17, -1.1102230246251565e-16, -1.6653345369377348e-16, 1.1102230246251565e-16, -5.551115123125783e-17, -1.1102230246251565e-16, 5.551115123125783e-17, -1.1102230246251565e-16, 0.0, -2.220446049250313e-16, -2.220446049250313e-16, -1.6653345369377348e-16, 0.0, 1.6653345369377348e-16, 0.0, -1.1102230246251565e-16, 0.0, 1.1102230246251565e-16, 1.6653345369377348e-16, -5.551115123125783e-17, 5.551115123125783e-17, 1.1102230246251565e-16, -2.220446049250313e-16, -5.551115123125783e-17, 1.6653345369377348e-16, -5.551115123125783e-17, -1.6653345369377348e-16, -5.551115123125783e-17, 0.0, -1.6653345369377348e-16, 1.6653345369377348e-16, 1.1102230246251565e-16, 1.6653345369377348e-16, 0.0, 5.551115123125783e-17, -1.1102230246251565e-16, 1.1102230246251565e-16, 1.1102230246251565e-16, 1.1102230246251565e-16, 1.6653345369377348e-16, 0.0, -1.1102230246251565e-16, -1.1102230246251565e-16, -1.1102230246251565e-16, 5.551115123125783e-17, 1.6653345369377348e-16, 1.1102230246251565e-16, 0.0, -1.6653345369377348e-16, 1.1102230246251565e-16, 0.0, -1.1102230246251565e-16, 0.0, -1.1102230246251565e-16, 0.0, 1.1102230246251565e-16, 5.551115123125783e-17, 1.1102230246251565e-16, -1.1102230246251565e-16, -1.1102230246251565e-16, 1.1102230246251565e-16, 1.6653345369377348e-16, -1.1102230246251565e-16, 1.1102230246251565e-16, 1.1102230246251565e-16, 0.0, 0.0, 1.1102230246251565e-16, 1.1102230246251565e-16, -1.1102230246251565e-16, 1.1102230246251565e-16, 1.6653345369377348e-16, 0.0, 1.6653345369377348e-16, -1.6653345369377348e-16, 0.0, 1.6653345369377348e-16, 1.6653345369377348e-16, 1.1102230246251565e-16, -1.6653345369377348e-16, 1.6653345369377348e-16, -1.6653345369377348e-16, -1.6653345369377348e-16, -1.6653345369377348e-16, 0.0, -1.1102230246251565e-16, 1.1102230246251565e-16, 0.0, -1.1102230246251565e-16, 1.1102230246251565e-16, 1.1102230246251565e-16, 1.6653345369377348e-16, 1.6653345369377348e-16, -1.1102230246251565e-16, 1.1102230246251565e-16, 5.551115123125783e-17, -1.1102230246251565e-16, 1.6653345369377348e-16, -1.6653345369377348e-16, -1.1102230246251565e-16, -1.1102230246251565e-16, -5.551115123125783e-17, -1.1102230246251565e-16, -1.6653345369377348e-16, 1.6653345369377348e-16, 1.1102230246251565e-16, -1.1102230246251565e-16, 0.0, 1.1102230246251565e-16, 1.1102230246251565e-16, 2.220446049250313e-16, -2.220446049250313e-16, 0.0, -1.1102230246251565e-16, -1.1102230246251565e-16, -1.6653345369377348e-16, 1.1102230246251565e-16, 2.220446049250313e-16, 5.551115123125783e-17, -5.551115123125783e-17, 1.1102230246251565e-16, -1.1102230246251565e-16, 5.551115123125783e-17, -5.551115123125783e-17, 1.6653345369377348e-16, -1.6653345369377348e-16, -1.1102230246251565e-16, -5.551115123125783e-17, -1.1102230246251565e-16, 1.6653345369377348e-16, 1.6653345369377348e-16, 0.0, 1.1102230246251565e-16, -5.551115123125783e-17, -5.551115123125783e-17, 0.0]\n",
            "[-0.042450620132257866, -0.6906231617704989, -0.9368181626249452, -0.9479746721715643, -0.999696922279962, -0.5375082069853752, -0.8367591652265766, 0.0008389537386851442, -0.6637776465650421, -0.829696564552213, 0.1819716260653318, 0.8460409458114236, -0.9925154100456355, -0.9922125783360837, -0.9922342175850581, -0.8422028361610395, 0.9976641698755864, 0.12750340642481767, -0.9819375404039185, -0.9943739333328387, 0.7771372540936804, -0.980168696263177, 0.8447008965102284, 0.422720637333407, -0.3372457625136896, -0.8657973252578693, 0.9019632777073106, 0.9422922469801487, -0.9869802198266554, -0.17411483288761986, -0.5984315077489717, 0.3844060325429496, 0.3421232040995652, -0.11864932085726765, -0.9988811558848182, 0.5005366933324111, -0.9369159958209403, -0.9995277717150982, -0.4017753790874001, -0.1540280876793439, -0.5216737898551542, -0.7773642949791812, -0.637295300136087, -0.7817159934598514, -0.3975187072082073, -0.5413912027914506, -0.08663718737134768, -0.6591253770441985, 0.35241657092655604, -0.9811721816820018, 0.9985218160833707, -0.38314556492735297, -0.16850973877144737, -0.29568462504823345, 0.977315219385729, -0.6166350543406877, -0.045216563398275456, -0.5150356702992027, -0.16994516941571175, 0.8392242073547755, 0.994439099984756, 0.49179485248271637, -0.9959899777833516, 0.02752244836520995, -0.7447237465059634, -0.8629285578000526, -0.9513880895825442, -0.29835144487982773, 0.21422350135978763, -0.7723003383288526, -0.9965881733373952, -0.5343676066068227, -0.9607232793639232, 0.20947955085552972, -0.8815125611488177, 0.1423499376955607, -0.2757801624191444, 0.8186995515416058, 0.8371938872855629, -0.7192461446060971, 0.7001389655908185, -0.7615376413894396, -0.5589692435400917, 0.9802133257526645, -0.7260417283555003, 0.9834361506787834, -0.41410401118704715, -0.9800432104057875, 0.4529692680193264, 0.9250316603266461, -0.6920708082395252, -0.6478483956055364, -0.999557828242265, -0.6628630655646908, -0.8984858165566525, 0.3147873108782324, 0.9991970411429996, -0.9169024106998644, 0.7269873310540583, -0.9946120735632052, -0.3959936438684985, -0.5079495733986892, -0.7697781343949144, -0.3354401046403004, -0.2813790695893517, -0.9650370241324807, -0.85424350130121, -0.8410093067925742, -0.537865867869919, 0.236119850432296, -0.14537971484550805, -0.8689070627759305, -0.6858960029623057, 0.9257617915485487, 0.6197185227668847, -0.0018161942117574381, -0.4500254022871837, 0.11750220210237045, 0.35239606540435947, 0.8610552752835826, 0.9346930004616283, -0.520727840782598, -0.3688766802375566, -0.9516457844099199, -0.9650961325562588, -0.31148081496505864, 0.9413423726813646, -0.9630116249626207, -0.10018015024989857, 0.990054289253252, -0.014321617505905937, 0.12450313715993355, -0.40059019495188003, -0.8679622369727722, 0.5384181589508323, -0.3924190943531286, -0.9134954849929942, -0.5983677973159885, 0.9658900405789834, -0.9376002217549164, -0.5046210188492295, -0.9556742827265301, 0.38974162062696366, -0.05294389465524779, 0.7271818638123302, -0.20187759615868578, 0.6875886011244885, -0.653547577081156, 0.9997310291259947, -0.11684945077495257, 0.9212349638095937, 0.19546928379551165, 0.38529120133637884, -0.5780054226138718, -0.4876500303112203, 0.92520239343059, -0.060418355881241836, 0.832240800831622, -0.8631720741582737, -0.662507451773866, -0.26827352822388445, 0.6454840703355131, 0.8989585279522622, -0.26339144039334356, -0.9860736671926139, 0.4703398936005688, -0.7548010975112214, -0.8322438365896557, -0.8431607609252507, 0.9392168941001545, -0.186576618716009, -0.9927012726791835, -0.9485606633977134, -0.4318507440195127, -0.5478728649053031, -0.6598488254293143, -0.9469367234223911, -0.4999840915201368, -0.16375342728279113, -0.39901720800964996, -0.5059430679067047, -0.8839823104330792, -0.1755276787960824, -0.38903684921027337, -0.35127156404814724, -0.8315303523453746, -0.17343976623861612, -0.975818789368862, -0.03467708081012677, -0.005426988857096193, -0.657891606879791, -0.7401398425385275, 0.1483731722445394, -0.9648287022860321, -0.14669936192088967, -0.49457433363871606, 0.6210327474683542, 0.9727262351558605, 0.8265170660637787, -0.502946132692166, -0.4739367747520634, -0.4424125551002218, -0.893600008965419, -0.14552608947188994, -0.9880976056584782, -0.41181307715828414, 0.9598646245862947, -0.6678055552677162, -0.9967280882003475, -0.9585311463833331, 0.9681240350299514, -0.8873135139338548, 0.6501338012618478, 0.9978980403509933, 0.9975156351269644, -0.36689534653094236, -0.993843036986036, 0.2717854503866768, 0.9880089271858767, 0.3696094125002409, -0.7779677893084624, -0.551952444732282, -0.5448921854461906, -0.7454723428686261, 0.8845917379676392, -0.5991625861294827, -0.9994666022650852, -0.7574989406357295, -0.24620785059254147, 0.8208518328594572, -0.9999181901957661, -0.039384516998368035, -0.8732623849490009, -0.9923124154988481, 0.8787689897539995, -0.9976280011694727, -0.9683713923943442, -0.04906085165056423, -0.3544572966688969, -0.07389320281968847, -0.8428775957752278, 0.8557491053167596, 0.8068836424510245, -0.8995342127621495, -0.7534214975452027, -0.7242285757721894, -0.938166880217414, -0.6236825669206371, -0.7155599189024392, 0.03775825565122376, -0.057465056050328644, -0.7720811411176403, -0.9378376434336381, -0.9895441667529782, -0.9863477038550369, -0.3431146328008908, -0.8709459909904842, -0.546317098159877, -0.4001155512783696, -0.24833665180273817, -0.04694787092989461, -0.6756145636957904, -0.7073766086259772, -0.9998808993283905, 0.747496395522034, -0.9200090446264773, -0.7223321888669092, 0.5547890263316799, 0.5755604173765207, -0.8215224164230185, -0.8475627029061423, -0.8333184565939349, -0.752928427770994, -0.02135080063966366, -0.2147771567018632, -0.09440374634484816, -0.9196772375220019, -0.48985485161570336, -0.9969487363564972, -0.9858587578255374, -0.824566098734626, 0.9077640992531846, -0.29389644377711166, 0.402600279363376, 0.7974734066835295, -0.974122623153974, -0.6699601159082916, -0.9918192612874861, -0.8329957035301977, -0.9818892974658563, -0.9990387487962971, -0.5164053005456034, -0.9827797569048352, -0.07102996795845523, -0.6378234697987474, 0.5567407140464786, 0.7304309896276792, 0.07934621099666628, -0.05696908833174247, -0.5577464537906831, -0.9277476286947501, -0.717159144217443, -0.33846265370578926, -0.9997734550107813, -0.651928615822111, -0.8388478747289326, -0.21549338186126643, -0.6767439466407685, 0.3806178165025046, -0.785871354410502, -0.9583942350401853, -0.5084870717380838, -0.739824164020476, 0.7459403913005825, -0.5778708794200258, -0.9848386357163781, -0.6675049950145151, 0.8261962774404443, 0.8980807101081, 0.6154987550721676, -0.31762530766306823, -0.6796339173117427, -0.11886719339380075, -0.017618949658316174, -0.7552287402318868, -0.9709373632693251, -0.3071071640524905, -0.943168288596626, 0.975685268540917, -0.6425901371967548, -0.14743916425826692, -0.7789327640388694, -0.48515481949281775, 0.708562889811683, 0.014229567864223525, -0.75316441498721, -0.7569955962157128, 0.23218210591867172, -0.6406379038787127, -0.0547972171309396, -0.9960835885959911, 0.7381184068702649, -0.9997566850435272, -0.7368821276706552, 0.4650725976404322, -0.890984077269167, 0.8996512502480118, -0.9793784873572221, -0.9503864703012965, 0.011192276588768924, -0.9713533781545665, 0.9490324898423693, 0.11431393035468229, 0.8264999765621139, -0.7858681055957581, 0.2063430598623901, -0.9831708088810351, -0.8167787993205146, -0.5132033950009738, -0.9535378624992543, -0.2517871492581306, 0.9296196314654586, 0.8636867470289081, -0.9423945082098774, -0.6512671475273697, 0.7180472022232185, 0.08678267529626649, 0.10133702864085453, -0.6615524042455866, -0.019711606044121754, -0.5407094975130833, -0.5983266162428169, -0.8645354232359416, 0.8928029540026514, -0.9575806784028134, -0.9788808684424253, -0.8679732795794555, -0.6824311945826368, -0.9855908792822231, -0.7317421861844058, -0.23717554296661414, 0.74726253048176, -0.6916382231981896, -0.9994641207306696, 0.6449056907048898, 0.7854284064797892, -0.5163744149216517, -0.8471658321705146, 0.9004030704224749, -0.8661097259114213, -0.09685756140499974, -0.34983912297923037, -0.9967240519032752, 0.4802989244211762, -0.24817965642847845, -0.251219794544235, -0.4339690587613174, -0.14085248568203096, -0.22586178395686796, -0.39681168130217354, 0.833973197043566, -0.11796850208236881, -0.615378320367961, -0.1580762474102318, -0.9577459459661508, 0.41438902204297823, -0.8266824060731839, 0.5633641403449124, -0.9727797503948906, -0.4328759933517899, 0.16163772124052844, -0.17620724349326772, -0.8525254474026147, -0.6927516671937743, 0.5708142948196824, 0.9970111734492373, 0.9851809971981, 0.6677850621980621, -0.6488187320203321, -0.0561460334013672, 0.025830027755388008, -0.8043931802593892, -0.3123869769208076, -0.181545488496128, 0.10445417548237773, -0.8648493190433805, -0.9988552612945051, 0.8805125199026588, -0.42745938024543323, 0.6025203557477159, -0.4710275297634099, -0.9742651556085522, -0.8832565720752923, -0.12688632203425365, -0.9783482942070042, 0.7435877765168837, -0.5849545007277074, -0.37595733375668683, -0.8211226519413503, 0.9565793084296954, -0.9993603249630497, 0.4409498765998853, 0.21165190248268478, -0.11891242834647436, -0.8122959082078742, -0.9969056883031071, -0.5803304327031861, -0.11279604606877375, -0.8392976417268284, 0.07056947827366683, 0.9876152382598985, -0.8038302815885506, 0.7876437499223534, -0.06381867696151389, 0.23028918977344243, -0.9621313193297967, 0.663442132559229, -0.9996724699366579, 0.8547593904916104, 0.21822502921336673, 0.6959949399689316, 0.6112540583294129, -0.8907577586273977, -0.8336360637746147, -0.4609861084266456, 0.38915439227969184, -0.8878654768352083, 0.735536560309109, -0.4175374774087887, -0.961478647596934, -0.021239914088975187, 0.9031933650386714, -0.7403753750117799, -0.9750289185714686, -0.48915452064345644, -0.9043399737123643, -0.9331038663387798, -0.3479283309884694, -0.6556459515901363, 0.6818644003460941, -0.2336639213925013, 0.9935015339497426, -0.7253735237187451, -0.7754114404289547, 0.6616455832247667, 0.9029109208014131, 0.11348592917107386, -0.9631762632570798, -0.903202991480037, 0.9177425700567021, -0.36512884597734546, 0.22560350424236786, -0.3453500762310334, 0.9969247925780257, -0.9429554427844972, -0.9936398990440446, -0.9842628508717725, -0.47128396571843256, -0.9221626366897436, -0.9434040629131734]\n",
            "[-0.8913281768078322, -0.9254764986794042, 0.6297036605731324, -0.6908176687154541, 0.015306347258728259, 0.5258168758683186, -0.9944044254816196, 0.9762611398601353, 0.6842410758237761, -0.3132302773715948, -0.01837922472218717, 0.9702114564567059, -0.7362811542802091, 0.8193537202226143, -0.6672937341886974, 0.951426566075704, 0.5870245531793358, -0.08165291415997383, -0.8967761299115421, -0.9189723530893302, 0.999807548012643, -0.9577429144600504, 0.6752303619055622, 0.9160701046610488, -0.8576444463431768, -0.0757693757043636, -0.806052341513668, -0.6210951483200245, -0.8175870540537853, -0.25586541759230846, 0.9423607845726819, -0.8979693350630162, -0.9512000291628632, 0.3371530226563917, 0.45204960227720553, 0.7051685739822906, 0.42003610728787316, 0.6921950568158632, -0.4844095643995655, 0.15330114500530867, 0.16717269274024743, 0.8412697002935082, 0.7854802622059224, 0.25733375907953915, 0.1389231139825034, -0.25075924548014916, 0.4865067570183094, 0.5288095933472442, 0.988355255142945, -0.6854416210884524, 0.6063926329940398, 0.8067380236229124, 0.9265654268427622, 0.9875908645764976, -0.42003216542193944, 0.07971288940133842, -0.014768239797402605, -0.9924537139725514, 0.9934013051696304, -0.41990606089066257, 0.9871836958595062, -0.9979850786826446, 0.9306888577564076, 0.9999995691970058, -0.5310802457415357, 0.8037668768291786, 0.9317512086212492, 0.9998837760218083, 0.9822936211362027, -0.9444820184527475, 0.9313843237066921, -0.714089098452491, -0.8392292308114524, 0.3880293245394914, 0.9795892935133681, 0.5896247169152793, -0.21766771828304848, 0.9230586330881303, -0.6373278246622606, -0.7960072659075126, 0.07365753617275073, -0.5238274478038634, 0.6224455806753586, 0.8533248259836751, -0.9198742237603094, 0.11203974684639434, 0.991888124396522, -0.26409495802723515, -0.6080967313723511, 0.3320042131234244, -0.9993380032043777, 0.25961887708093745, 0.9984775608434059, -0.49104740821308573, 0.9725614568461174, -0.09279155229688751, 0.9989405384963662, -0.9993642230487342, 0.8993241399887006, -0.310137049063308, -0.7679141513364758, -0.9848786771921885, 0.6897666227773624, -0.01805506040106386, -0.9429194461551023, 0.7303310102079219, 0.5335085844205646, -0.6304894917243993, 0.9904495990939939, 0.1844531686802069, -0.7611522279350598, 0.9359392572401861, -0.9655204990143089, -0.9205716760806607, -0.9683684483208697, 0.4830266600737196, 0.7210201210459102, -0.025922478453871023, 0.9878459555025025, 0.1297755310122659, -0.057785440055127146, -0.23629435837646373, -0.6797114819018122, -0.15813842479208967, -0.8258654833688563, -0.016550116354599853, 0.9969233514237398, -0.988859522633151, -0.997886491595656, -0.9393556718686568, -0.9120183437806072, -0.9523184311054115, 0.5446343409411034, -0.3805608610654114, 0.3918668405325696, -0.9830580352548174, 0.3866433411769561, 0.024258464138835478, 0.7051344735939695, 0.3891738200503135, 0.6881205318720387, 0.2735847680084622, -0.6701951817851792, -0.5824477922411093, -0.11259787153460754, 0.906991176348005, -0.7948310960750485, -0.02777469813346256, 0.26435847680313657, 0.992787825281558, -0.8842713507641848, -0.9071706474601196, -0.1553947774937487, -0.9927041780653657, 0.9051980384080108, -0.4159436508756732, -0.9931265903616373, -0.9679985918648697, -0.03131370072819095, -0.5442754222680991, -0.8379125528700169, -0.8196994495473633, -0.6636532195374063, -0.38865516718176407, 0.9885245072171747, -0.3000700548310548, 0.8928008112521459, 0.2238519781328357, -0.3525632933635171, -0.9965998566596168, -0.3891088700752776, 0.5158416373730831, 0.5279989021998122, 0.759861286212555, 0.805627609305777, -0.8278966566667264, -0.18897310458063732, -0.33296377169936264, 0.34499994145550406, 0.17266380269482134, -0.47658473778579163, -0.9138801363874013, -0.2474965947472978, -0.6048248756130508, -0.5022267930065619, 0.8292388996806697, 0.09579813443674046, -0.27766673671021697, 0.9904631668621124, -0.6446455005118702, 0.2985137395015895, -0.9862382221651254, -0.86584845264643, 0.28033917888167403, -0.5563012075286715, 0.9292128399792424, -0.12985395567505842, 0.16728394440688876, -0.9999274181432517, 0.5663167894592107, 0.3465814592454888, 0.9785983365106259, 0.33895413537585695, 0.4748056561035357, 0.45007152451655147, -0.9841560558092401, 0.6233901471619321, 0.681777117120294, 0.34139155339188154, -0.5487581587686751, -0.16976157335979158, -0.10634883292099534, 0.8461415327246332, 0.881763345582372, 0.48758889192230953, -0.7191821221959471, -0.1882582252357785, 0.327819691104655, 0.9661587397645456, 0.40165221882693947, 0.45452657704615484, 0.7889608465041252, -0.9127418711629118, -0.23162661665496082, -0.4060624259974811, -0.9988928261712041, -0.18473923182784174, -0.7676372053896374, -0.6146083586522514, 0.8235122916562346, 0.9999892080700913, -0.6579817430266401, 0.28804935897265405, -0.9909785930418195, -0.23594466424218902, -0.30747143857644477, -0.9798979727938337, 0.4788611494266435, 0.3789940376877921, -0.9994468780252838, 0.9071610783921024, -0.6436909159020818, -0.8264859490461801, -0.2487829717966047, -0.6746997109984074, 0.25982056473597837, -0.9973738087805831, -0.94251883694355, 0.4597372097892183, -0.68979832564862, -0.2557368629030887, 0.19908121117656497, -0.09636081028489024, -0.7130095230574949, -0.30647550575878496, -0.7145331886195782, 0.8857461034583342, 0.7783778153891474, 0.9291774353065251, -0.3766166060473685, -0.9454398498555556, 0.20058501529032807, -0.7221006059402046, -0.8886531843937053, -0.778299347513943, -0.13424910861347095, 0.5321207288724179, 0.04506973107431678, 0.2683331678420519, 0.9919115574045022, -0.8747003505087974, 0.9551187877845, 0.22990736231925785, -0.009723960182513536, 0.9904737530497469, -0.564154364078475, 0.9731055910178736, -0.9454086317449268, 0.8143262526822219, -0.7895885816260936, 0.889521971748338, 0.6604061757181742, 0.3287413602710134, -0.6299175945359035, 0.5045416389720442, -0.9878874035063053, 0.009390108949149656, 0.4149715181083589, -0.9913473422442302, -0.7229884776907374, 0.986357627571898, 0.7053869229404247, 0.705601310020879, 0.5955681425674537, 0.6327849869392764, -0.9742461590485875, 0.9602672246055071, -0.9443586913816545, -0.21607919051822144, -0.9010895590335747, 0.6185315402589706, 0.9979231471796016, 0.8926738226860116, -0.661517324121447, -0.562166230796272, 0.9867814543073755, -0.6994830656453974, -0.7866576098579077, -0.7693509318007359, 0.8867479009597912, -0.75740327345535, -0.21724498512586027, -0.6710192599615238, 0.9548086286554968, 0.590625646499525, -0.42055257130364887, -0.9295245414867477, 0.8822554518010438, 0.9640286664386264, 0.9989896961593158, 0.9939085572673716, -0.9543966903268521, 0.23960569739768944, -0.863891189831582, -0.8692859058294274, -0.21793618404007725, -0.14638736325759943, -0.18388853924958903, -0.9079421207078237, -0.08422449371734297, -0.5668142264036878, 0.29199116273705283, 0.9836559872799777, 0.9839353534290233, -0.916185789872921, 0.8463498651106327, -0.996695324769158, -0.4742024077871894, 0.8387370438401154, 0.4885918273160293, -0.9994208201251679, 0.8331392527380643, 0.7857673272696122, 0.8386609845377336, 0.2830245888010565, -0.09443622138899738, 0.2532578637286702, 0.8699842286018316, -0.9936212872135376, 0.9933986825389486, -0.9516646763920095, 0.08201101558642054, 0.3132843094827032, 0.03243330005239797, -0.4305892243085812, -0.3262511177628368, -0.6603429702276202, -0.9999992612039759, 0.8452120521036472, -0.863687257658072, 0.11733897459343356, 0.5845925515041823, 0.8407774681409228, -0.6111842282508918, -0.9995210386198876, -0.5932431672027767, -0.9975965799215252, 0.8942820104624438, -0.18347188030948214, -0.9819441083873579, -0.4324265918704194, -0.9876575932712034, -0.022484168224833845, -0.9880928794654573, -0.904308478146485, -0.9298380329325995, 0.7179042260144269, 0.9997546815754764, 0.19861519732525146, -0.4425347030152975, 0.4982502818366435, 0.48566411497296413, 0.9994436276484203, -0.9234795333581508, 0.037151635273120265, 0.7486405996873764, -0.8838133338852021, -0.59203914728105, 0.7822943732199925, -0.9272099405487176, -0.6319963025777272, -0.5877250813417259, -0.30404236327205586, -0.7608358182977678, 0.9843403363346876, 0.9267766357820457, 0.49249210416316885, -0.7207101513929794, 0.729666119164941, 0.02730287939055448, 0.6864255980330374, 0.813078962457257, 0.21322638131054167, 0.9777006549083371, -0.9442569971777114, -0.20304257086444838, -0.5982302999122031, -0.9782378016507056, -0.02161045368104758, 0.9462824301360087, 0.8325283149107285, -0.5701138488588593, -0.5910254123430024, 0.7166217112605505, 0.2219713994192029, -0.9631541522712832, -0.25429482033431666, -0.9605321793914284, 0.5773103443012964, 0.41232802850120576, 0.5162282140502924, 0.616832964977852, -0.5648661791763627, -0.8812923501505525, 0.8509498938902309, 0.7710498733908469, -0.1523297200572148, 0.9695855650829747, 0.5265478851867958, 0.0062631526720861586, 0.5393635525050791, 0.9347293120486725, 0.5554788893888698, -0.48433924768223374, 0.27514237735044883, 0.8905450918163824, -0.04034025342358227, 0.9519318775275697, -0.9442918235724718, 0.09364082841689769, 0.9089671826707288, 0.8400543463145157, 0.8600291101737103, -0.9594557550464343, 0.9619295652200441, -0.7544523359289348, -0.9979391466569835, -0.9970111990881276, -0.09105925508043133, -0.5622827737664852, 0.6614057865808897, 0.4135755885212112, -0.7392881942064082, 0.8220355500825236, 0.6426186865454464, 0.8267669668590674, 0.43348260690357027, -0.2598293074219743, 0.44162704115527873, 0.6334258084811861, -0.9307910168311142, 0.23211842296877866, -0.9502495905570365, 0.25576951309448076, -0.918481466116895, -0.7043419103706641, -0.425997571176604, -0.9847776438019756, 0.9674803479332174, 0.5372382018868502, -0.9749528199109702, -0.7382939297154603, 0.23711130198470615, 0.5859454624572966, 0.8539489323517988, -0.9991993389061852, 0.4107392662408299, -0.970274673382942, -0.38576926278411494, -0.64353687752555, 0.9812933893099153, 0.9773270340293201, 0.3717431239304624, -0.35309728230310067, 0.8798784574581473, -0.7540696834850502, 0.706106594417224, -0.31164134896828094, 0.9420075592010416, -0.8331039162679211, -0.9431034410182304, -0.6039019541570815, -0.23394143088122948, 0.9986869080780665, 0.995261950519552, -0.5163591686698565, 0.8549113632579497, -0.8194206458010534, 0.04426528368029592, 0.357926503750983]\n"
          ]
        }
      ]
    }
  ]
}